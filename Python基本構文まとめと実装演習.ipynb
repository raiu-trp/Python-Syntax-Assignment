{
 "cells": [
  {
   "cell_type": "markdown",
   "id": "cd89f908",
   "metadata": {},
   "source": [
    "# Python 基本構文"
   ]
  },
  {
   "cell_type": "markdown",
   "id": "c349317f",
   "metadata": {},
   "source": [
    "## コメント\n",
    "行頭に「#」を記述することで行末までコメント扱いになり、実行時に無視される。"
   ]
  },
  {
   "cell_type": "code",
   "execution_count": 3,
   "id": "8ecd8e39",
   "metadata": {},
   "outputs": [
    {
     "name": "stdout",
     "output_type": "stream",
     "text": [
      "Hello,World\n"
     ]
    }
   ],
   "source": [
    "#これはコメント\n",
    "print(\"Hello,World\")\n",
    "#これもコメント"
   ]
  },
  {
   "cell_type": "markdown",
   "id": "4dd1cc7f",
   "metadata": {},
   "source": [
    "## 文字列\n",
    "文字列はシングルクオーテーションまたはダブルクオーテーションで囲んで表す。Pyhton3においてはどちらで囲んでも変わらない。"
   ]
  },
  {
   "cell_type": "markdown",
   "id": "131089f6",
   "metadata": {},
   "source": [
    "## 数値\n",
    "数値を扱う場合はクオーテーションで囲ってはいけない。\n",
    "数値を扱って四則演算を行うことが出来る。計算の優先順位は通常の数式と変わらず乗除が加減より優先されるが、通常と同様に丸括弧で囲むことで優先順位を変更できる。"
   ]
  },
  {
   "cell_type": "code",
   "execution_count": 4,
   "id": "18951763",
   "metadata": {},
   "outputs": [
    {
     "name": "stdout",
     "output_type": "stream",
     "text": [
      "15\n",
      "5\n",
      "50\n",
      "2.0\n",
      "0\n"
     ]
    }
   ],
   "source": [
    "print(10 + 5) #足し算\n",
    "print(10 - 5) #引き算\n",
    "print(10 * 5) #かけ算\n",
    "print(10 / 5) #割り算\n",
    "print(10 % 5) #あまりを求める"
   ]
  },
  {
   "cell_type": "markdown",
   "id": "ab63c7fa",
   "metadata": {},
   "source": [
    "## 変数\n",
    "値を保管しておくもの。名前を付けて使う。Pythonでは変数名は大文字と小文字を区別して扱う。また、Pythonでは慣習として2語以上をつなげて変数名にするときは、間にスペースではなくアンダースコアを使うことが多い。"
   ]
  },
  {
   "cell_type": "code",
   "execution_count": 5,
   "id": "50de65ab",
   "metadata": {},
   "outputs": [
    {
     "name": "stdout",
     "output_type": "stream",
     "text": [
      "Hello, World\n"
     ]
    }
   ],
   "source": [
    "hello_world = \"Hello, World\" #変数hello_worldに文字列Hello, Worldを代入\n",
    "print(hello_world)"
   ]
  },
  {
   "cell_type": "markdown",
   "id": "df5b5dde",
   "metadata": {},
   "source": [
    "## 定数\n",
    "定数は値を変えられない数。Pythonでは定数を定義する構文がないため、定数的に変数を扱う場合がある。その場合、変数名は慣習としてすべて大文字にすることが多い。"
   ]
  },
  {
   "cell_type": "markdown",
   "id": "43191dbe",
   "metadata": {},
   "source": [
    "## 予約語\n",
    "関数名や変数名に使用できない単語のこと。それらを用いるとSyntax Errorが発生する。Pythonのバージョンによって予約語は異なる。以下は予約語を表示した例。"
   ]
  },
  {
   "cell_type": "code",
   "execution_count": 6,
   "id": "011746c1",
   "metadata": {},
   "outputs": [
    {
     "name": "stdout",
     "output_type": "stream",
     "text": [
      "['False', 'None', 'True', 'and', 'as', 'assert', 'async', 'await', 'break', 'class', 'continue', 'def', 'del', 'elif', 'else', 'except', 'finally', 'for', 'from', 'global', 'if', 'import', 'in', 'is', 'lambda', 'nonlocal', 'not', 'or', 'pass', 'raise', 'return', 'try', 'while', 'with', 'yield']\n"
     ]
    }
   ],
   "source": [
    "import keyword\n",
    "print(keyword.kwlist) #予約語をprintで表示する"
   ]
  },
  {
   "cell_type": "markdown",
   "id": "12d7edd4",
   "metadata": {},
   "source": [
    "## データ型\n",
    "データは主に数値型、文字列型、辞書型、リスト型に分けられる。プログラミング言語によっては変数の宣言時に型を明示する必要があるが、Pyrhonにおいては必要ない。"
   ]
  },
  {
   "cell_type": "markdown",
   "id": "753b8aa6",
   "metadata": {},
   "source": [
    "### 数値型\n",
    "数値型には以下の3種類がある。\n",
    "1. 整数(int)\n",
    "2. 小数・実数(float)\n",
    "3. 複素数"
   ]
  },
  {
   "cell_type": "markdown",
   "id": "61717e22",
   "metadata": {},
   "source": [
    "### 文字列型\n",
    "文字列は先述したようにクオーテーションで囲んで表される。文字列型では、+を使うことで結合、*を使うことで反復ができる。"
   ]
  },
  {
   "cell_type": "code",
   "execution_count": 7,
   "id": "27c36310",
   "metadata": {},
   "outputs": [
    {
     "name": "stdout",
     "output_type": "stream",
     "text": [
      "HelloWorld\n",
      "HelloHelloHello\n"
     ]
    }
   ],
   "source": [
    "a = \"Hello\"\n",
    "b = \"World\"\n",
    "\n",
    "print(a + b) #結合\n",
    "print(a * 3) #反復"
   ]
  },
  {
   "cell_type": "markdown",
   "id": "50f84c2a",
   "metadata": {},
   "source": [
    "### 型変換（キャスト）\n",
    "データ型を変換することを、型変換、またはキャストと呼ぶ。データ型の異なるデータは連結できない。<br>\n",
    "数値型を文字列型に変換するにはstr()を使用する。"
   ]
  },
  {
   "cell_type": "code",
   "execution_count": 8,
   "id": "c0810441",
   "metadata": {},
   "outputs": [
    {
     "name": "stdout",
     "output_type": "stream",
     "text": [
      "文字と数字を結合します10\n"
     ]
    }
   ],
   "source": [
    "number = 10\n",
    "print(\"文字と数字を結合します\" + str(number)) #数値型のnumberを文字列型に変換して文字列と連結"
   ]
  },
  {
   "cell_type": "markdown",
   "id": "bf60ab06",
   "metadata": {},
   "source": [
    "### リスト型\n",
    "リスト型は複数の変数をまとめて扱う。リストの中身は左から数え、0から数え始める。"
   ]
  },
  {
   "cell_type": "code",
   "execution_count": 9,
   "id": "bed3c28d",
   "metadata": {},
   "outputs": [
    {
     "name": "stdout",
     "output_type": "stream",
     "text": [
      "['tanaka', 'suzuki', 'sato', 'takahashi']\n",
      "['tanaka', 'suzuki', 'sato', 'takahashi', 'kimura']\n"
     ]
    }
   ],
   "source": [
    "li = ['tanaka', 'suzuki', 'sato', 'takahashi'] #リストliに文字列を4つ代入\n",
    "print(li)\n",
    "\n",
    "li.append('kimura') #append()を使うことでリストの末尾に要素を追加できる\n",
    "print(li)"
   ]
  },
  {
   "cell_type": "markdown",
   "id": "be2d128f",
   "metadata": {},
   "source": [
    "### 辞書型\n",
    "辞書型はKeyとValueをペア保持するデータ型。辞書型はリスト型の角括弧とちがい、波括弧を使用する。"
   ]
  },
  {
   "cell_type": "code",
   "execution_count": 11,
   "id": "e50d5a34",
   "metadata": {},
   "outputs": [
    {
     "name": "stdout",
     "output_type": "stream",
     "text": [
      "suzuki\n",
      "{'name': 'suzuki', 'age': 16, 'gender': 'male'}\n"
     ]
    }
   ],
   "source": [
    "profile = {\"name\": \"suzuki\", \"age\": 16,} #辞書profileを作成、nameとageの二つのデータを格納\n",
    "\n",
    "print(profile[\"name\"]) #profileからnameキーのデータを取り出す\n",
    "\n",
    "profile[\"gender\"] = \"male\" #profileに新しいgender要素を追加\n",
    "\n",
    "print(profile)"
   ]
  },
  {
   "cell_type": "markdown",
   "id": "1fb24fb4",
   "metadata": {},
   "source": [
    "## コードブロックとインデント\n",
    "Pythonではインデントで処理をまとめる。"
   ]
  },
  {
   "cell_type": "markdown",
   "id": "3f2b3f95",
   "metadata": {},
   "source": [
    "## 条件分岐(if)\n",
    "条件に当てはまるかによって処理の内容を変えるときはif文を使う。<br>\n",
    "条件文を作るときには、以下の比較演算子を使う。\n",
    "\n",
    "| 条件式 | 意味 |\n",
    "|:------:|:----:|\n",
    "| > |左辺の方が大きい|\n",
    "| < |右辺の方が大きい|\n",
    "| >= |左辺の方が大きいか等しい|\n",
    "| <= |右辺の方が大きいか等しい|\n",
    "| == |両辺は等しい|\n",
    "| != |両辺は等しくない|"
   ]
  },
  {
   "cell_type": "code",
   "execution_count": 12,
   "id": "72bebf9f",
   "metadata": {},
   "outputs": [
    {
     "name": "stdout",
     "output_type": "stream",
     "text": [
      "満点!\n"
     ]
    }
   ],
   "source": [
    "score = 100\n",
    "\n",
    "if score == 100: #scoreが100なら次の処理を実行\n",
    "    print(\"満点!\")\n",
    "elif score > 85: #scoreが100でなく、scoreが85より大きいなら次の処理を実行\n",
    "    print(\"合格!\")\n",
    "else: #scoreが100でなく、85より大きくもないなら次の処理を実行\n",
    "    print(\"不合格!\")"
   ]
  },
  {
   "cell_type": "markdown",
   "id": "3eed0d30",
   "metadata": {},
   "source": [
    "## ループ(for)\n",
    "for文では、リストをループ内変数に格納して、リストの終わりまで処理を繰り返す。"
   ]
  },
  {
   "cell_type": "code",
   "execution_count": 13,
   "id": "e5872b4f",
   "metadata": {},
   "outputs": [
    {
     "name": "stdout",
     "output_type": "stream",
     "text": [
      "apple\n",
      "banana\n",
      "orange\n"
     ]
    }
   ],
   "source": [
    "for i in [\"apple\", \"banana\", \"orange\"]: #ループ内変数iにリストの中身を一つずつ格納して繰り返し処理していく\n",
    "    print(i)"
   ]
  },
  {
   "cell_type": "markdown",
   "id": "a633c814",
   "metadata": {},
   "source": [
    "指定回数を繰り返す場合は、range()関数を用いる。range()関数は、以下のような役割を持つ。<br>\n",
    "range(x):0からx-1までの連番のリストを返す<br>\n",
    "range(x, y):xからy-1までの連番のリストを返す"
   ]
  },
  {
   "cell_type": "code",
   "execution_count": 14,
   "id": "b51f97f7",
   "metadata": {},
   "outputs": [
    {
     "name": "stdout",
     "output_type": "stream",
     "text": [
      "0\n",
      "1\n",
      "2\n",
      "3\n",
      "4\n",
      "5\n",
      "6\n",
      "7\n",
      "8\n",
      "9\n"
     ]
    }
   ],
   "source": [
    "for i in range(10): #0から9まで10回繰り返す\n",
    "    print(i)"
   ]
  },
  {
   "cell_type": "markdown",
   "id": "43eeaa88",
   "metadata": {},
   "source": [
    "リストの内容をインデックス番号とともに処理したい場合はenumerate()関数を使用する"
   ]
  },
  {
   "cell_type": "code",
   "execution_count": 15,
   "id": "50901f01",
   "metadata": {},
   "outputs": [
    {
     "name": "stdout",
     "output_type": "stream",
     "text": [
      "0 apple\n",
      "1 banana\n",
      "2 orange\n"
     ]
    }
   ],
   "source": [
    "for index, name in enumerate([\"apple\", \"banana\", \"orange\"]):\n",
    "    print(index, name)"
   ]
  },
  {
   "cell_type": "markdown",
   "id": "3ac15f7b",
   "metadata": {},
   "source": [
    "辞書型のデータもfor文でループできる"
   ]
  },
  {
   "cell_type": "code",
   "execution_count": 16,
   "id": "19bf175e",
   "metadata": {},
   "outputs": [
    {
     "name": "stdout",
     "output_type": "stream",
     "text": [
      "name suzuki\n",
      "age 16\n",
      "gender male\n"
     ]
    }
   ],
   "source": [
    "data = {\"name\": \"suzuki\", \"age\": 16, \"gender\": \"male\"}\n",
    "for key, value in data.items():\n",
    "    print(key, value)"
   ]
  },
  {
   "cell_type": "markdown",
   "id": "a8b88db1",
   "metadata": {},
   "source": [
    "## ループ(while)\n",
    "while文は条件式を満たす間ループを繰り返す。条件式をTrueに置き換えれば無限ループになる。"
   ]
  },
  {
   "cell_type": "code",
   "execution_count": 17,
   "id": "d5f19918",
   "metadata": {},
   "outputs": [
    {
     "name": "stdout",
     "output_type": "stream",
     "text": [
      "0\n",
      "1\n",
      "2\n",
      "3\n",
      "4\n",
      "5\n",
      "6\n",
      "7\n",
      "8\n",
      "9\n"
     ]
    }
   ],
   "source": [
    "n = 0\n",
    "\n",
    "while n < 10: #nが10より小さい間は繰り返す\n",
    "    print(n)\n",
    "    n += 1 #nを1加算する"
   ]
  },
  {
   "cell_type": "markdown",
   "id": "24c58049",
   "metadata": {},
   "source": [
    "## 内包表記\n",
    "リストや辞書は内包表記という方法で簡易的な記述で作成できる。"
   ]
  },
  {
   "cell_type": "code",
   "execution_count": 18,
   "id": "2d2f46f0",
   "metadata": {},
   "outputs": [
    {
     "name": "stdout",
     "output_type": "stream",
     "text": [
      "[1, 4, 9, 16, 25, 36, 49, 64, 81, 100]\n",
      "{2: 1, 4: 4, 6: 9, 8: 16, 10: 25, 12: 36, 14: 49, 16: 64, 18: 81, 20: 100}\n"
     ]
    }
   ],
   "source": [
    "li = [x**2 for x in range(1,11)] #1から10までの数を2乗した数値のリストを作成\n",
    "print(li)\n",
    "\n",
    "d = {x*2:x**2 for x in range(1,11)} #辞書型の場合はキーと値はコロンで区切って表記する\n",
    "print(d)"
   ]
  },
  {
   "cell_type": "markdown",
   "id": "f1b55fc6",
   "metadata": {},
   "source": [
    "tupleの場合はtuple()でキャストする必要がある。"
   ]
  },
  {
   "cell_type": "code",
   "execution_count": 19,
   "id": "a4003b37",
   "metadata": {},
   "outputs": [
    {
     "name": "stdout",
     "output_type": "stream",
     "text": [
      "(1, 2, 3, 4, 5, 6, 7, 8, 9, 10)\n"
     ]
    }
   ],
   "source": [
    "t = tuple(x for x in range(1,11))\n",
    "print(t)"
   ]
  },
  {
   "cell_type": "markdown",
   "id": "f001a94f",
   "metadata": {},
   "source": [
    "## 標準入力\n",
    "input()を用いることで、ユーザーからの入力を受け取ることが出来る。"
   ]
  },
  {
   "cell_type": "code",
   "execution_count": 1,
   "id": "cf800de0",
   "metadata": {},
   "outputs": [
    {
     "name": "stdout",
     "output_type": "stream",
     "text": [
      "What's your name?\n",
      "すずき\n",
      "Hello! すずき!\n"
     ]
    }
   ],
   "source": [
    "print(\"What's your name?\")\n",
    "name = input()\n",
    "print (\"Hello! {}!\".format(name))"
   ]
  },
  {
   "cell_type": "markdown",
   "id": "5b4541b5",
   "metadata": {},
   "source": [
    "## 関数\n",
    "関数とは、データを受け取り、定められた処理を実行し、その結果を返す命令のこと。Pythonで最初から用意されている標準関数と自分で作ることが出来る独自関数がある。独自関数を使用することで、コードの視認性と保守性が上がる。<br>\n",
    "関数を定義する際には**def**というキーワードを使う。"
   ]
  },
  {
   "cell_type": "code",
   "execution_count": 22,
   "id": "49b5b146",
   "metadata": {},
   "outputs": [
    {
     "name": "stdout",
     "output_type": "stream",
     "text": [
      "Hello!\n"
     ]
    }
   ],
   "source": [
    "def hello(): #Hello!と表示する関数helloを定義する\n",
    "    print(\"Hello!\")\n",
    "    \n",
    "hello() #関数helloを実行"
   ]
  },
  {
   "cell_type": "markdown",
   "id": "da3c5373",
   "metadata": {},
   "source": [
    "また、関数には引数と返り値（戻り値）を設定することが出来る。引数は関数が受け取る値、返り値は関数が出力する値のことである。"
   ]
  },
  {
   "cell_type": "code",
   "execution_count": 25,
   "id": "3caba7c9",
   "metadata": {},
   "outputs": [
    {
     "name": "stdout",
     "output_type": "stream",
     "text": [
      "Hello! kaito\n",
      "hello\n"
     ]
    }
   ],
   "source": [
    "def hello_name(name): #引数nameを受け取る関数hello_nameを定義\n",
    "    print(\"Hello! \" + str(name))\n",
    "\n",
    "hello_name(\"kaito\")\n",
    "\n",
    "\n",
    "def return_hello(): #文字列helloを返り値として返す関数return_helloを定義\n",
    "    return \"hello\"\n",
    "\n",
    "print(return_hello())"
   ]
  },
  {
   "cell_type": "markdown",
   "id": "5fc619d8",
   "metadata": {},
   "source": [
    "また、引数にはデフォルトの値を設定できる。"
   ]
  },
  {
   "cell_type": "code",
   "execution_count": 26,
   "id": "76f43ec7",
   "metadata": {},
   "outputs": [
    {
     "name": "stdout",
     "output_type": "stream",
     "text": [
      "10\n",
      "15\n",
      "3\n",
      "5\n"
     ]
    }
   ],
   "source": [
    "def func(a, b=5): #引数bのデフォルト値が5である関数funcを作成\n",
    "    print(a)\n",
    "    print(b)\n",
    "    \n",
    "func(10,15)\n",
    "func(3)"
   ]
  },
  {
   "cell_type": "markdown",
   "id": "3d5cd84e",
   "metadata": {},
   "source": [
    "## 変数のスコープ\n",
    "変数は、どこで作成したかによってスコープ（有効範囲）が変わる。"
   ]
  },
  {
   "cell_type": "code",
   "execution_count": 2,
   "id": "e33828ee",
   "metadata": {},
   "outputs": [
    {
     "name": "stdout",
     "output_type": "stream",
     "text": [
      "15\n"
     ]
    },
    {
     "ename": "NameError",
     "evalue": "name 'b' is not defined",
     "output_type": "error",
     "traceback": [
      "\u001b[1;31m---------------------------------------------------------------------------\u001b[0m",
      "\u001b[1;31mNameError\u001b[0m                                 Traceback (most recent call last)",
      "Input \u001b[1;32mIn [2]\u001b[0m, in \u001b[0;36m<cell line: 7>\u001b[1;34m()\u001b[0m\n\u001b[0;32m      4\u001b[0m     \u001b[38;5;28mprint\u001b[39m(ans)\n\u001b[0;32m      6\u001b[0m add(\u001b[38;5;241m5\u001b[39m)\n\u001b[1;32m----> 7\u001b[0m \u001b[38;5;28mprint\u001b[39m(\u001b[43mb\u001b[49m)\n",
      "\u001b[1;31mNameError\u001b[0m: name 'b' is not defined"
     ]
    }
   ],
   "source": [
    "def add(a):\n",
    "    b = 10 #関数内で作成されたローカル変数(関数の外から参照できない)\n",
    "    ans = a + b\n",
    "    print(ans)\n",
    "\n",
    "add(5)\n",
    "print(b) #参照できないのでエラーが起きる"
   ]
  },
  {
   "cell_type": "code",
   "execution_count": 3,
   "id": "49ee60e1",
   "metadata": {},
   "outputs": [
    {
     "name": "stdout",
     "output_type": "stream",
     "text": [
      "15\n",
      "10\n"
     ]
    }
   ],
   "source": [
    "b = 10 #関数外部で作成されたグローバル変数\n",
    "\n",
    "def add(a):\n",
    "    ans = a + b\n",
    "    print(ans)\n",
    "\n",
    "add(5)\n",
    "print(b) #参照できるので値が出力される"
   ]
  },
  {
   "cell_type": "markdown",
   "id": "3a8d3f71",
   "metadata": {},
   "source": [
    "また、global宣言を使用することで、関数の内部でもグローバル変数にアクセスすることが出来る。"
   ]
  },
  {
   "cell_type": "code",
   "execution_count": 4,
   "id": "a3280f13",
   "metadata": {},
   "outputs": [
    {
     "name": "stdout",
     "output_type": "stream",
     "text": [
      "10\n",
      "5\n"
     ]
    }
   ],
   "source": [
    "b = 10 #関数外部で作成されたグローバル変数\n",
    "\n",
    "def add(a):\n",
    "    global b #global宣言\n",
    "    b = 5\n",
    "    ans = a + b\n",
    "    print(ans)\n",
    "\n",
    "add(5)\n",
    "print(b) #add関数内でグローバル変数bを5に書き換えているので5が出力される。"
   ]
  },
  {
   "cell_type": "markdown",
   "id": "0ce8843b",
   "metadata": {},
   "source": [
    "## ライブラリ\n",
    "ライブラリとは、ある程度まとまった汎用性の高い処理を記述しておき、読み込むことで他のプログラムでも使えるようにしたファイル。Pythonでは、モジュールと呼ぶ。import文を使用することでモジュールを読み込むことが出来る。"
   ]
  },
  {
   "cell_type": "code",
   "execution_count": 5,
   "id": "2c931e2f",
   "metadata": {},
   "outputs": [
    {
     "name": "stdout",
     "output_type": "stream",
     "text": [
      "3.10.2 (tags/v3.10.2:a58ebcc, Jan 17 2022, 14:12:15) [MSC v.1929 64 bit (AMD64)]\n"
     ]
    }
   ],
   "source": [
    "import sys #sysモジュールをインポート\n",
    "print(sys.version) #sysモジュールのversion関数で使用中のpythonのバージョン情報を取得"
   ]
  },
  {
   "cell_type": "markdown",
   "id": "9c8e1807",
   "metadata": {},
   "source": [
    "モジュールは、pythonのファイルに自分で関数を定義して作成することも出来る。自作のモジュールを読み込む場合は、<br>\n",
    "**import ファイル名**<br>\n",
    "で読み込むことが出来る。<br><br>\n",
    "また、<br>\n",
    "**from モジュール名 import 関数名**<br>\n",
    "で、ファイル名の指定をすることなく関数が呼び出せる。"
   ]
  },
  {
   "cell_type": "code",
   "execution_count": 6,
   "id": "c73bdac5",
   "metadata": {},
   "outputs": [
    {
     "name": "stdout",
     "output_type": "stream",
     "text": [
      "3.10.2 (tags/v3.10.2:a58ebcc, Jan 17 2022, 14:12:15) [MSC v.1929 64 bit (AMD64)]\n"
     ]
    }
   ],
   "source": [
    "from sys import version\n",
    "print(version)"
   ]
  },
  {
   "cell_type": "markdown",
   "id": "859ebc94",
   "metadata": {},
   "source": [
    "さらに、<br>\n",
    "**import モジュール名 as 別名**<br>\n",
    "で、任意の別名をつけてインポートすることも出来る。"
   ]
  },
  {
   "cell_type": "code",
   "execution_count": 1,
   "id": "5b712271",
   "metadata": {},
   "outputs": [
    {
     "name": "stdout",
     "output_type": "stream",
     "text": [
      "3.10.2 (tags/v3.10.2:a58ebcc, Jan 17 2022, 14:12:15) [MSC v.1929 64 bit (AMD64)]\n"
     ]
    }
   ],
   "source": [
    "from sys import version as ver\n",
    "print(ver)"
   ]
  },
  {
   "cell_type": "markdown",
   "id": "4079ef7d",
   "metadata": {},
   "source": [
    "## オブジェクト指向\n",
    "オブジェクト指向とは、プログラミングのスタイル・手法のこと。オブジェクト指向を用いることで、開発の効率や保守性を挙げることが出来る。"
   ]
  },
  {
   "cell_type": "markdown",
   "id": "f091f6b1",
   "metadata": {},
   "source": [
    "## クラス\n",
    "クラスはオブジェクト指向の基礎で、データ構造を作る仕組み。クラスからインスタンスを生成することで、実際にその構造にデータを持たせることが出来る。"
   ]
  },
  {
   "cell_type": "code",
   "execution_count": 2,
   "id": "e7980d7d",
   "metadata": {},
   "outputs": [
    {
     "name": "stdout",
     "output_type": "stream",
     "text": [
      "コンストラクタが呼ばれました\n",
      "コンストラクタが呼ばれました\n",
      "Hello Sample User\n",
      "Hello Python\n"
     ]
    }
   ],
   "source": [
    "class User: #クラス名は慣習として、単語の頭は大文字にすることが多い。\n",
    "    def __init__(self, name): #__init__でコンストラクタを設定できる（コンストラクタはインスタンスが作成されたときに一度だけ呼び出される）\n",
    "        \n",
    "        self.name = name #インスタンス変数nameに受け取った引数nameを代入（インスタンス変数は、個々のインスタンスに格納される。）\n",
    "        print(\"コンストラクタが呼ばれました\")\n",
    "        \n",
    "    def hello(self): #クラスに関数helloを定義する（クラスに定義された関数をメソッドという。）\n",
    "        print(\"Hello \" + self.name)\n",
    "        \n",
    "user = User(\"Sample User\") #userという名前のインスタンスを作成\n",
    "py = User(\"Python\") #pyというインスタンスも使い回して作成できる\n",
    "\n",
    "user.hello()\n",
    "py.hello() #それぞれのインスタンスに渡した引数を反映して結果が出る"
   ]
  },
  {
   "cell_type": "markdown",
   "id": "f7c526b9",
   "metadata": {},
   "source": [
    "## 継承\n",
    "継承は、既存のクラスをもとに新しいクラスを作ることが出来る仕組み。"
   ]
  },
  {
   "cell_type": "code",
   "execution_count": 3,
   "id": "12fae776",
   "metadata": {},
   "outputs": [
    {
     "name": "stdout",
     "output_type": "stream",
     "text": [
      "コンストラクタが呼ばれました\n",
      "SuperHello tani\n"
     ]
    }
   ],
   "source": [
    "class User:\n",
    "    def __init__(self, name):  \n",
    "        self.name = name\n",
    "        print(\"コンストラクタが呼ばれました\")\n",
    "        \n",
    "    def hello(self):\n",
    "        print(\"Hello \" + self.name)\n",
    "        \n",
    "class SuperUser(User): #()の中に継承元のクラスを書く。\n",
    "    def __init__(self, name, age):\n",
    "        \n",
    "        super().__init__(name) #super()を使うことで親クラスを呼び出せる。\n",
    "        self.age = age\n",
    "        \n",
    "    def hello(self): #メソッドをオーバーライド（上書き）することもできる\n",
    "        print(\"SuperHello \" + self.name)\n",
    "        \n",
    "t = SuperUser(\"tani\", 100)\n",
    "t.hello()"
   ]
  },
  {
   "cell_type": "markdown",
   "id": "949f02af",
   "metadata": {},
   "source": [
    "## 多重継承\n",
    "複数の親クラスから継承することを、多重継承という。"
   ]
  },
  {
   "cell_type": "code",
   "execution_count": 4,
   "id": "2a852244",
   "metadata": {},
   "outputs": [],
   "source": [
    "class Base1:\n",
    "    pass #何も処理をしない時はpassを書く\n",
    "\n",
    "class Base2:\n",
    "    pass\n",
    "\n",
    "class SampleClassName(Base1, Base2): #このように書くことで複数の親クラスから継承できる。\n",
    "    pass"
   ]
  }
 ],
 "metadata": {
  "kernelspec": {
   "display_name": "Python 3 (ipykernel)",
   "language": "python",
   "name": "python3"
  },
  "language_info": {
   "codemirror_mode": {
    "name": "ipython",
    "version": 3
   },
   "file_extension": ".py",
   "mimetype": "text/x-python",
   "name": "python",
   "nbconvert_exporter": "python",
   "pygments_lexer": "ipython3",
   "version": "3.10.2"
  }
 },
 "nbformat": 4,
 "nbformat_minor": 5
}
